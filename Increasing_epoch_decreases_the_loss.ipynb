{
  "cells": [
    {
      "cell_type": "code",
      "execution_count": 3,
      "metadata": {
        "id": "dusTP-O1reWo"
      },
      "outputs": [],
      "source": [
        "import torch\n",
        "import torch.nn as nn\n",
        "import numpy as np\n",
        "import pandas as pd\n",
        "import matplotlib.pyplot as plt\n",
        "from sklearn.preprocessing import StandardScaler"
      ]
    },
    {
      "cell_type": "markdown",
      "metadata": {
        "id": "eoJZocB8vu2w"
      },
      "source": [
        "# Load Dataset"
      ]
    },
    {
      "cell_type": "code",
      "execution_count": 4,
      "metadata": {
        "colab": {
          "base_uri": "https://localhost:8080/"
        },
        "id": "QI2-9qRpriHW",
        "outputId": "95b98c57-936c-4e4f-ce2e-14eea2546b2d"
      },
      "outputs": [],
      "source": [
        "# Get data from UCI\n",
        "#!wget https://raw.githubusercontent.com/selva86/datasets/master/BostonHousing.csv\n",
        "#Boston Dataset variables overview\n",
        "# Variables\n",
        "# There are 14 attributes in each case of the dataset. They are:\n",
        "# CRIM - per capita crime rate by town\n",
        "# ZN - proportion of residential land zoned for lots over 25,000 sq.ft.\n",
        "# INDUS - proportion of non-retail business acres per town.\n",
        "# CHAS - Charles River dummy variable (1 if tract bounds river; 0 otherwise)\n",
        "# NOX - nitric oxides concentration (parts per 10 million)\n",
        "# RM - average number of rooms per dwelling\n",
        "# AGE - proportion of owner-occupied units built prior to 1940\n",
        "# DIS - weighted distances to five Boston employment centres\n",
        "# RAD - index of accessibility to radial highways\n",
        "# TAX - full-value property-tax rate per $10,000\n",
        "# PTRATIO - pupil-teacher ratio by town\n",
        "# B - 1000(Bk - 0.63)^2 where Bk is the proportion of blacks by town\n",
        "# LSTAT - % lower status of the population\n",
        "# MEDV - Median value of owner-occupied homes in $1000's\n",
        "\n",
        "# Variable #14 seems to be censored at 50.00 (corresponding to a median price of $50,000)\n",
        "\n",
        "# Load the dataset\n",
        "data = pd.read_csv(\"BostonHousing.csv\")"
      ]
    },
    {
      "cell_type": "markdown",
      "metadata": {},
      "source": [
        "# EDA"
      ]
    },
    {
      "cell_type": "code",
      "execution_count": 5,
      "metadata": {},
      "outputs": [
        {
          "data": {
            "text/html": [
              "<div>\n",
              "<style scoped>\n",
              "    .dataframe tbody tr th:only-of-type {\n",
              "        vertical-align: middle;\n",
              "    }\n",
              "\n",
              "    .dataframe tbody tr th {\n",
              "        vertical-align: top;\n",
              "    }\n",
              "\n",
              "    .dataframe thead th {\n",
              "        text-align: right;\n",
              "    }\n",
              "</style>\n",
              "<table border=\"1\" class=\"dataframe\">\n",
              "  <thead>\n",
              "    <tr style=\"text-align: right;\">\n",
              "      <th></th>\n",
              "      <th>crim</th>\n",
              "      <th>zn</th>\n",
              "      <th>indus</th>\n",
              "      <th>chas</th>\n",
              "      <th>nox</th>\n",
              "      <th>rm</th>\n",
              "      <th>age</th>\n",
              "      <th>dis</th>\n",
              "      <th>rad</th>\n",
              "      <th>tax</th>\n",
              "      <th>ptratio</th>\n",
              "      <th>b</th>\n",
              "      <th>lstat</th>\n",
              "      <th>medv</th>\n",
              "    </tr>\n",
              "  </thead>\n",
              "  <tbody>\n",
              "    <tr>\n",
              "      <th>0</th>\n",
              "      <td>0.00632</td>\n",
              "      <td>18.0</td>\n",
              "      <td>2.31</td>\n",
              "      <td>0</td>\n",
              "      <td>0.538</td>\n",
              "      <td>6.575</td>\n",
              "      <td>65.2</td>\n",
              "      <td>4.0900</td>\n",
              "      <td>1</td>\n",
              "      <td>296</td>\n",
              "      <td>15.3</td>\n",
              "      <td>396.90</td>\n",
              "      <td>4.98</td>\n",
              "      <td>24.0</td>\n",
              "    </tr>\n",
              "    <tr>\n",
              "      <th>1</th>\n",
              "      <td>0.02731</td>\n",
              "      <td>0.0</td>\n",
              "      <td>7.07</td>\n",
              "      <td>0</td>\n",
              "      <td>0.469</td>\n",
              "      <td>6.421</td>\n",
              "      <td>78.9</td>\n",
              "      <td>4.9671</td>\n",
              "      <td>2</td>\n",
              "      <td>242</td>\n",
              "      <td>17.8</td>\n",
              "      <td>396.90</td>\n",
              "      <td>9.14</td>\n",
              "      <td>21.6</td>\n",
              "    </tr>\n",
              "    <tr>\n",
              "      <th>2</th>\n",
              "      <td>0.02729</td>\n",
              "      <td>0.0</td>\n",
              "      <td>7.07</td>\n",
              "      <td>0</td>\n",
              "      <td>0.469</td>\n",
              "      <td>7.185</td>\n",
              "      <td>61.1</td>\n",
              "      <td>4.9671</td>\n",
              "      <td>2</td>\n",
              "      <td>242</td>\n",
              "      <td>17.8</td>\n",
              "      <td>392.83</td>\n",
              "      <td>4.03</td>\n",
              "      <td>34.7</td>\n",
              "    </tr>\n",
              "    <tr>\n",
              "      <th>3</th>\n",
              "      <td>0.03237</td>\n",
              "      <td>0.0</td>\n",
              "      <td>2.18</td>\n",
              "      <td>0</td>\n",
              "      <td>0.458</td>\n",
              "      <td>6.998</td>\n",
              "      <td>45.8</td>\n",
              "      <td>6.0622</td>\n",
              "      <td>3</td>\n",
              "      <td>222</td>\n",
              "      <td>18.7</td>\n",
              "      <td>394.63</td>\n",
              "      <td>2.94</td>\n",
              "      <td>33.4</td>\n",
              "    </tr>\n",
              "    <tr>\n",
              "      <th>4</th>\n",
              "      <td>0.06905</td>\n",
              "      <td>0.0</td>\n",
              "      <td>2.18</td>\n",
              "      <td>0</td>\n",
              "      <td>0.458</td>\n",
              "      <td>7.147</td>\n",
              "      <td>54.2</td>\n",
              "      <td>6.0622</td>\n",
              "      <td>3</td>\n",
              "      <td>222</td>\n",
              "      <td>18.7</td>\n",
              "      <td>396.90</td>\n",
              "      <td>5.33</td>\n",
              "      <td>36.2</td>\n",
              "    </tr>\n",
              "  </tbody>\n",
              "</table>\n",
              "</div>"
            ],
            "text/plain": [
              "      crim    zn  indus  chas    nox     rm   age     dis  rad  tax  ptratio  \\\n",
              "0  0.00632  18.0   2.31     0  0.538  6.575  65.2  4.0900    1  296     15.3   \n",
              "1  0.02731   0.0   7.07     0  0.469  6.421  78.9  4.9671    2  242     17.8   \n",
              "2  0.02729   0.0   7.07     0  0.469  7.185  61.1  4.9671    2  242     17.8   \n",
              "3  0.03237   0.0   2.18     0  0.458  6.998  45.8  6.0622    3  222     18.7   \n",
              "4  0.06905   0.0   2.18     0  0.458  7.147  54.2  6.0622    3  222     18.7   \n",
              "\n",
              "        b  lstat  medv  \n",
              "0  396.90   4.98  24.0  \n",
              "1  396.90   9.14  21.6  \n",
              "2  392.83   4.03  34.7  \n",
              "3  394.63   2.94  33.4  \n",
              "4  396.90   5.33  36.2  "
            ]
          },
          "execution_count": 5,
          "metadata": {},
          "output_type": "execute_result"
        }
      ],
      "source": [
        "#Boston dataset overview\n",
        "data.head()"
      ]
    },
    {
      "cell_type": "code",
      "execution_count": 8,
      "metadata": {},
      "outputs": [
        {
          "name": "stdout",
          "output_type": "stream",
          "text": [
            "<class 'pandas.core.frame.DataFrame'>\n",
            "RangeIndex: 506 entries, 0 to 505\n",
            "Data columns (total 14 columns):\n",
            " #   Column   Non-Null Count  Dtype  \n",
            "---  ------   --------------  -----  \n",
            " 0   crim     506 non-null    float64\n",
            " 1   zn       506 non-null    float64\n",
            " 2   indus    506 non-null    float64\n",
            " 3   chas     506 non-null    int64  \n",
            " 4   nox      506 non-null    float64\n",
            " 5   rm       506 non-null    float64\n",
            " 6   age      506 non-null    float64\n",
            " 7   dis      506 non-null    float64\n",
            " 8   rad      506 non-null    int64  \n",
            " 9   tax      506 non-null    int64  \n",
            " 10  ptratio  506 non-null    float64\n",
            " 11  b        506 non-null    float64\n",
            " 12  lstat    506 non-null    float64\n",
            " 13  medv     506 non-null    float64\n",
            "dtypes: float64(11), int64(3)\n",
            "memory usage: 55.5 KB\n"
          ]
        }
      ],
      "source": [
        "# Boston Dataset info summary\n",
        "data.info()"
      ]
    },
    {
      "cell_type": "markdown",
      "metadata": {},
      "source": [
        "# Separating features from the target variable"
      ]
    },
    {
      "cell_type": "code",
      "execution_count": 13,
      "metadata": {},
      "outputs": [],
      "source": [
        "# Separate features (X) and target variable (y)\n",
        "# The target 'medv' is the median value of owner-occupied homes in $1000s.(medv is our prediction target)\n",
        "\n",
        "X = data.drop('medv', axis=1).values  # All columns except 'medv' are features - drop medv and remain with other columns\n",
        "y = data['medv'].values.reshape(-1, 1) # Reshape y to be a 2D column vector for consistency"
      ]
    },
    {
      "cell_type": "markdown",
      "metadata": {
        "id": "zQHcpKUiv3TR"
      },
      "source": [
        "#  Preprocessing and model Definition"
      ]
    },
    {
      "cell_type": "code",
      "execution_count": 5,
      "metadata": {
        "id": "v6aTuJUEryVr"
      },
      "outputs": [],
      "source": [
        "# Normalization is critical for gradient-based optimization as it ensures all features\n",
        "# contribute equally to the loss function, leading to faster and more stable convergence.\n",
        "scaler = StandardScaler()\n",
        "X = scaler.fit_transform(X) # Transforms features to have mean=0 and standard deviation=1\n",
        "\n",
        "# PyTorch models require inputs to be tensors. Using .float() ensures the data type is compatible.\n",
        "X_tensor = torch.from_numpy(X).float()\n",
        "y_tensor = torch.from_numpy(y).float()\n",
        "\n",
        "# Model Definition\n",
        "class LinearRegressionModel(nn.Module):\n",
        "    \"\"\"A simple linear regression model.\"\"\"\n",
        "    def __init__(self, input_dim, output_dim):\n",
        "        super(LinearRegressionModel, self).__init__()\n",
        "        # Define a single linear layer that maps input_dim features to output_dim predictions\n",
        "        self.linear = nn.Linear(input_dim, output_dim)\n",
        "\n",
        "    def forward(self, x):\n",
        "        # The forward pass defines how input data is transformed into an output prediction\n",
        "        return self.linear(x)\n",
        "\n",
        "# Instantiate the model\n",
        "model = LinearRegressionModel(X.shape[1], 1) # input_dim = number of features, output_dim = 1 (price)\n",
        "\n",
        "# Loss Function and Optimizer\n",
        "criterion = nn.MSELoss()  # Mean Squared Error, suitable for regression tasks\n",
        "optimizer = torch.optim.SGD(model.parameters(), lr=0.01) # Stochastic Gradient Descent optimizer"
      ]
    },
    {
      "cell_type": "markdown",
      "metadata": {
        "id": "Gt1wOZ90whhN"
      },
      "source": [
        "# Training Loop"
      ]
    },
    {
      "cell_type": "code",
      "execution_count": 6,
      "metadata": {
        "colab": {
          "base_uri": "https://localhost:8080/"
        },
        "id": "lDcLagI2r0-3",
        "outputId": "bfeb9650-392a-4b0a-89f0-4b8b5d8755b8"
      },
      "outputs": [
        {
          "name": "stdout",
          "output_type": "stream",
          "text": [
            "Epoch [100/500], Loss: 33.1437\n",
            "Epoch [200/500], Loss: 23.0431\n",
            "Epoch [300/500], Loss: 22.4930\n",
            "Epoch [400/500], Loss: 22.2786\n",
            "Epoch [500/500], Loss: 22.1546\n"
          ]
        }
      ],
      "source": [
        "epochs = 500\n",
        "# List to track the loss at each epoch for visualization\n",
        "losses = []\n",
        "\n",
        "\n",
        "for epoch in range(epochs):\n",
        "    # Set model to training mode (important for layers like dropout/batchnorm)\n",
        "    model.train()\n",
        "\n",
        "    # Clear previous gradients; otherwise, they accumulate\n",
        "    optimizer.zero_grad()\n",
        "\n",
        "    # Forward Pass: Compute predicted y by passing X to the model\n",
        "    y_pred = model(X_tensor)\n",
        "\n",
        "    # Compute Loss: Calculate the MSE between predictions and true labels\n",
        "    loss = criterion(y_pred, y_tensor)\n",
        "\n",
        "    # Backward Pass: Compute gradients of the loss w.r.t. all model parameters\n",
        "    loss.backward()\n",
        "\n",
        "    # Update Parameters: Perform a single optimization step\n",
        "    optimizer.step()\n",
        "\n",
        "    # Store the loss for this epoch\n",
        "    losses.append(loss.item())\n",
        "\n",
        "    # Print progress every 100 epochs\n",
        "    if (epoch+1) % 100 == 0:\n",
        "        print(f'Epoch [{epoch+1}/{epochs}], Loss: {loss.item():.4f}')"
      ]
    },
    {
      "cell_type": "markdown",
      "metadata": {
        "id": "ee4pcw0myxLP"
      },
      "source": [
        "The results from training clearly demonstrate that increasing the number of epochs leads to a decrease in the model’s loss value. As seen in the printed losses, the mean squared error (MSE) consistently drops from 33. at epoch 100 to 22. at epoch 500, indicating that the model’s predictions are becoming progressively closer to the actual housing prices. This trend verifies the principle of gradient-based learning with each training epoch, the model iteratively adjusts its weights to minimize prediction error. However, after several hundred epochs, the improvement becomes marginal, suggesting that the model is approaching convergence. In conclusion, training the model for more epochs effectively reduces loss, but the benefit diminishes as the model stabilizes around its optimal parameter values.\n"
      ]
    },
    {
      "cell_type": "code",
      "execution_count": 7,
      "metadata": {
        "colab": {
          "base_uri": "https://localhost:8080/",
          "height": 472
        },
        "id": "y_6k9psZr2RX",
        "outputId": "b542d40f-e537-4ca1-e347-9327e8fce6dd"
      },
      "outputs": [
        {
          "data": {
            "image/png": "[encoded data removed]",
            "text/plain": [
              "<Figure size 640x480 with 1 Axes>"
            ]
          },
          "metadata": {},
          "output_type": "display_data"
        }
      ],
      "source": [
        "# Loss vs Epoch Plot\n",
        "plt.plot(losses)\n",
        "plt.title(\"Loss vs Epochs\")\n",
        "plt.xlabel(\"Epochs\")\n",
        "plt.ylabel(\"Loss\")\n",
        "plt.grid(True)\n",
        "plt.show()"
      ]
    }
  ],
  "metadata": {
    "colab": {
      "provenance": []
    },
    "kernelspec": {
      "display_name": "Python 3",
      "name": "python3"
    },
    "language_info": {
      "codemirror_mode": {
        "name": "ipython",
        "version": 3
      },
      "file_extension": ".py",
      "mimetype": "text/x-python",
      "name": "python",
      "nbconvert_exporter": "python",
      "pygments_lexer": "ipython3",
      "version": "3.11.13"
    }
  },
  "nbformat": 4,
  "nbformat_minor": 0
}
